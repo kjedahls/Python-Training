{
 "cells": [
  {
   "cell_type": "markdown",
   "metadata": {},
   "source": [
    "# Applied Data Science Capstone"
   ]
  },
  {
   "cell_type": "markdown",
   "metadata": {},
   "source": [
    "## Week 4 & 5 - The Battle of the Neighborhoods"
   ]
  },
  {
   "cell_type": "markdown",
   "metadata": {},
   "source": [
    "### So you want to start a bakery in NY? "
   ]
  },
  {
   "attachments": {},
   "cell_type": "markdown",
   "metadata": {},
   "source": [
    "#### Introduction/Business Problem\n",
    "\n",
    "In this final project a bakery franchise has contacted me with the intention of setting up a bakery in New York. By using data from various sources the mission is to assist in location the best location with emphasize on underserved areas. \n",
    "\n",
    "#### Data\n",
    "To find the solution to the above problem i will use data from https://cocl.us/new_york_dataset for boroughs, neighborhoods and latitude and longitude data for New York. Also data from https://en.wikipedia.org/wiki/Boroughs_of_New_York_City to find capita per neighborhood and capita density per sq km.\n",
    "Data from Foursquare will be used to find locations and ratings of Bakeries.\n",
    "\n",
    "#### Methodology\n",
    "Data will be collected from the sources mentioned in the Data section. Data will be cleaned, processed into pandas dataframe.\n",
    "FourSquare will be used to establish data the popularity of Bakeries. Data will analyzed with graphs and visual representation on maps.\n",
    "\n",
    "#### Results\n",
    "The first results showed that Manhattan had most bakeries while Bronx had least bakeries. In order to further review best neighboorhood for success I looked at the capita density per neighborhood. Similar results to previous with almost double density in Manhattan compared to Bronx. By dividing the bakeries by capita density we get a clear picture of the the bakery density is lowest. This again pointed toward the Bronx.\n",
    "\n",
    "#### Discussion\n",
    "It was a suprising difference between the neighborhoods regarding the bakery-density. Further analysis would have to be done to establish the reason behind this, but in my view the Bronx is where your would have most potential for success if starting a bakery in New York.\n",
    "\n",
    "#### Conlusion\n",
    "I would advice Bronx as the best location to start a bakery. More specifically in the vicinity of Bronx Zoo and New York Botanical garden."
   ]
  }
 ],
 "metadata": {
  "kernelspec": {
   "display_name": "Python 3",
   "language": "python",
   "name": "python3"
  },
  "language_info": {
   "codemirror_mode": {
    "name": "ipython",
    "version": 3
   },
   "file_extension": ".py",
   "mimetype": "text/x-python",
   "name": "python",
   "nbconvert_exporter": "python",
   "pygments_lexer": "ipython3",
   "version": "3.8.5"
  }
 },
 "nbformat": 4,
 "nbformat_minor": 4
}
