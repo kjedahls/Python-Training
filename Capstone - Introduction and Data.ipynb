{
 "cells": [
  {
   "cell_type": "markdown",
   "metadata": {},
   "source": [
    "# Applied Data Science Capstone"
   ]
  },
  {
   "cell_type": "markdown",
   "metadata": {},
   "source": [
    "## Week 4  - The Battle of the Neighborhoods"
   ]
  },
  {
   "cell_type": "markdown",
   "metadata": {},
   "source": [
    "### So you want to start a bakery in NY? "
   ]
  },
  {
   "cell_type": "markdown",
   "metadata": {},
   "source": [
    "#### Introduction/Business Problem\n",
    "\n",
    "In this final project a bakery franchise has contacted me with the intention of setting up a bakery in New York. By using data from various sources the mission is to assist in location the best location with emphasize on underserved areas."
   ]
  },
  {
   "cell_type": "markdown",
   "metadata": {},
   "source": [
    "#### Data\n",
    "To find the solution to the above problem i will use data from https://cocl.us/new_york_dataset for boroughs, neighborhoods and latitude and longitude data for New York. Also data from https://en.wikipedia.org/wiki/Boroughs_of_New_York_City to find capita per neighborhood and capita density per sq km.\n",
    "Data from Foursquare will be used to find locations and ratings of Bakeries."
   ]
  }
 ],
 "metadata": {
  "kernelspec": {
   "display_name": "Python 3",
   "language": "python",
   "name": "python3"
  },
  "language_info": {
   "codemirror_mode": {
    "name": "ipython",
    "version": 3
   },
   "file_extension": ".py",
   "mimetype": "text/x-python",
   "name": "python",
   "nbconvert_exporter": "python",
   "pygments_lexer": "ipython3",
   "version": "3.8.5"
  }
 },
 "nbformat": 4,
 "nbformat_minor": 4
}
